#import required packages
from glob import glob
# modules for copying files
import os
import shutil
from xml.sax.handler import DTDHandler
import exif
import piexif
#import exif to help with getting the date from the photo metadata
from exif import Image
from datetime import datetime, timedelta
from PIL import Image

#copy and paste photos from /All_RR_Field_Cam_Photos/site to site/Trail_Cam/Manual_Downloads/year/

sites = ("BYS", "CLD", "MEW", "MLL", "PRY", "WHT")
for site in sites: 

    origin = 'Z:/CW3E_Streamflow_Archive/All_RR_Field_Cam_Photos/' + site + '/'
    
    #Fetching the list of all the files

    files = os.listdir(origin)

    datetimes = {}

    # Fetching all the files to directory and checking for duplicates
    for file_name in files:

        file_path = os.path.join(origin, file_name)

        image = Image.open(file_path)

        exif_data = piexif.load(image.info['exif'])
        datetime_original = datetime.strptime(exif_data['Exif'][36867].decode(), "%Y:%m:%d %H:%M:%S")

        #check for duplicates
        if datetime_original in datetimes:
             # Increment the count if the filename is already in the dictionary
            datetimes[datetime_original] += 1
        else:
        # Add the filename to the dictionary with a count of 1
            datetimes[datetime_original] = 1

        # Display filenames that occur more than once, and discard them
        for datetime_original, count in datetimes.items():
            if count > 1 and 'PICT' in file_name:
                os.remove(file_path)  # Discard the file
                print(f"Discarded file: {file_name}")

        # Put the datetime into a format for saving as a filename
        filename_datetime = datetime_original.strftime('%Y%m%d_%H%M%S')

        year = str(datetime_original.year)
        
        target = 'Z:/CW3E_Streamflow_Archive/' + site + '/Trail Cam/Manual_Download/' + year + '/'

        #from the exif data, specify the file_new_name and format: XXX_YYYYMMDD_hhmmss; PST
        file_new_name = site + '_' + filename_datetime + '.jpg'

        src_path = os.path.join(origin, file_name)
        dst_path = os.path.join(target, file_new_name)

        print(f"Copying from {src_path} to {dst_path}")
        shutil.copy(src_path, dst_path)
        print("Copy successful")

    print("Copied successfully")